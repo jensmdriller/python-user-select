{
 "cells": [
  {
   "cell_type": "markdown",
   "metadata": {},
   "source": [
    "### Example 1 - Using each of the functions\n",
    "- Using Python-User-Select v0.01\n",
    "- First, this toolset is not a python package yet. Thus let's treat it as a module and import it as such\n",
    "- If you are new to jupyter notebooks, check this out: https://www.dataquest.io/blog/jupyter-notebook-tips-tricks-shortcuts/"
   ]
  },
  {
   "cell_type": "markdown",
   "metadata": {},
   "source": [
    "### Let's start by importing the module (This is how you should set up your script)\n",
    "```python\n",
    "# note, functions file must be in the working directory or the package installation directory\n",
    "from functions.py import *\n",
    "```"
   ]
  },
  {
   "cell_type": "markdown",
   "metadata": {},
   "source": [
    "### Since I am in a subdirectory, I am going to cheat a little and use a Jupyter/iPython notebook magic command\n",
    "- This has the added benefit of you seeing the exact code I am using to test my functions\n",
    "```python\n",
    "%load ../functions.py\n",
    "```"
   ]
  },
  {
   "cell_type": "code",
   "execution_count": 11,
   "metadata": {},
   "outputs": [],
   "source": [
    "# %load ../functions.py\n",
    "\n",
    "#v0.01\n",
    "\n",
    "def ssfl_body_function(choice_list):\n",
    "    for i,each in enumerate(choice_list):\n",
    "        print(\"Option [%i]: %s\" %(i+1,each))\n",
    "    user_sel_str = input(\"\\nPlease select one an option from the list above or press 'q' to quit\\n--> \")\n",
    "    try:\n",
    "        user_sel = int(user_sel_str)-1\n",
    "        if user_sel not in range(len(choice_list)):\n",
    "            raise Exception('Value out of range') \n",
    "    except:\n",
    "        print(\"\\nYou have entered an invalid option, please try again or press 'q' to quit\\n\")\n",
    "        if user_sel_str.lower().replace(\" \",\"\") == 'q':\n",
    "            print(\"Exiting...\\n\")\n",
    "            return None\n",
    "        else:\n",
    "            user_sel = ssfl_body_function(choice_list)\n",
    "    return user_sel\n",
    "\n",
    "def single_select_from_list(choice_list):\n",
    "    user_sel = ssfl_body_function(choice_list)\n",
    "    return choice_list[user_sel] if user_sel != None else None\n",
    "\n",
    "def multi_select_from_list(choice_list):\n",
    "    import re\n",
    "    for i,each in enumerate(choice_list):\n",
    "        print(\"Option [%i]: %s\" %(i+1,each))\n",
    "    user_sel_str = input(\"\\nPlease select one an option from the list above or press 'q' to quit\\n--> \")\n",
    "    if user_sel_str.lower().replace(\" \",\"\") == 'q':\n",
    "        print(\"Exiting...\\n\")\n",
    "        return None\n",
    "    remove_whitspaces = user_sel_str.replace(\" \",\"\")\n",
    "    seperate_by_comma = remove_whitspaces.split(',')\n",
    "    selection_array = [re.sub(\"\\D\", \"\", each) for each in seperate_by_comma]\n",
    "    try:\n",
    "        selection_array.remove('') #remove empty entries\n",
    "    except:\n",
    "        pass\n",
    "    for each_selection in selection_array:\n",
    "        user_sel = int(each_selection)-1\n",
    "        if user_sel not in range(len(choice_list)):\n",
    "            print(\"\\nEntry [%s] is an invalid option, please try again or press 'q' to quit\\n\" %(int(user_sel)+1))\n",
    "            multi_select_from_list(choice_dict);break\n",
    "    else:\n",
    "        return [choice_list[int(each_sel)-1] for each_sel in selection_array]\n",
    "\n",
    "def single_select_from_dict(choice_dict):\n",
    "    list_keys=list(choice_dict.keys())\n",
    "    for i,each in enumerate(list_keys):\n",
    "        print(\"Option [%i]: Key:[%s] Value:[%s]\" %(i+1,each,choice_dict[each]))\n",
    "    user_sel_str = input(\"\\nPlease select one an option from the list above or press 'q' to quit\\n--> \")\n",
    "    if user_sel_str.lower().replace(\" \",\"\") == 'q':\n",
    "        print(\"Exiting...\\n\")\n",
    "        return None\n",
    "    user_sel = int(user_sel_str)-1\n",
    "    if user_sel not in range(len(list_keys)):\n",
    "        print(\"\\nYou have entered an invalid option, please try again or press 'q' to quit\\n\")\n",
    "        single_select_from_dict(choice_dict)\n",
    "    return {list_keys[user_sel]:choice_dict[list_keys[user_sel]]}\n",
    "\n",
    "def multi_select_from_dict(choice_dict):\n",
    "    import re\n",
    "    list_keys=list(choice_dict.keys())\n",
    "    for i,each in enumerate(list_keys):\n",
    "        print(\"Option [%i]: %s %s\" %(i+1,each,choice_dict[each]))\n",
    "    user_sel_str = input(\"\\nPlease select one an option from the list above or press 'q' to quit\\n--> \")\n",
    "    if user_sel_str.lower().replace(\" \",\"\") == 'q':\n",
    "        print(\"Exiting...\\n\")\n",
    "        return None\n",
    "    remove_whitspaces = user_sel_str.replace(\" \",\"\")\n",
    "    seperate_by_comma = remove_whitspaces.split(',')\n",
    "    selection_array = [re.sub(\"\\D\", \"\", each) for each in seperate_by_comma]\n",
    "    try:\n",
    "        selection_array.remove('') #remove empty entries\n",
    "    except:\n",
    "        pass\n",
    "    for each_selection in selection_array:\n",
    "        user_sel = int(each_selection)-1\n",
    "        if user_sel not in range(len(list_keys)):\n",
    "            print(\"\\nEntry [%s] is an invalid option, please try again or press 'q' to quit\\n\" %(int(user_sel)+1))\n",
    "            multi_select_from_dict(choice_dict);break\n",
    "    else:\n",
    "        return {list_keys[int(each_sel)-1]:choice_dict[list_keys[int(each_sel)-1]] for each_sel in selection_array}"
   ]
  },
  {
   "cell_type": "markdown",
   "metadata": {},
   "source": [
    "### Testing single select function (lists)"
   ]
  },
  {
   "cell_type": "code",
   "execution_count": 12,
   "metadata": {
    "scrolled": true
   },
   "outputs": [
    {
     "name": "stdout",
     "output_type": "stream",
     "text": [
      "Option [1]: one\n",
      "Option [2]: two\n",
      "Option [3]: three\n",
      "\n",
      "Please select one an option from the list above or press 'q' to quit\n",
      "--> 1\n"
     ]
    },
    {
     "data": {
      "text/plain": [
       "'one'"
      ]
     },
     "execution_count": 12,
     "metadata": {},
     "output_type": "execute_result"
    }
   ],
   "source": [
    "single_select_from_list(['one','two','three'])"
   ]
  },
  {
   "cell_type": "markdown",
   "metadata": {},
   "source": [
    "### Testing multi select function (lists)"
   ]
  },
  {
   "cell_type": "code",
   "execution_count": 21,
   "metadata": {},
   "outputs": [
    {
     "name": "stdout",
     "output_type": "stream",
     "text": [
      "Option [1]: one\n",
      "Option [2]: two\n",
      "Option [3]: three\n",
      "\n",
      "Please select one an option from the list above or press 'q' to quit\n",
      "--> 1,2\n"
     ]
    },
    {
     "data": {
      "text/plain": [
       "['one', 'two']"
      ]
     },
     "execution_count": 21,
     "metadata": {},
     "output_type": "execute_result"
    }
   ],
   "source": [
    "multi_select_from_list(['one','two','three'])"
   ]
  },
  {
   "cell_type": "markdown",
   "metadata": {},
   "source": [
    "### Testing single select function (dictionaries)\n"
   ]
  },
  {
   "cell_type": "code",
   "execution_count": 18,
   "metadata": {},
   "outputs": [
    {
     "name": "stdout",
     "output_type": "stream",
     "text": [
      "Option [1]: Key:[1] Value:[one]\n",
      "Option [2]: Key:[2] Value:[two]\n",
      "Option [3]: Key:[3] Value:[three]\n",
      "\n",
      "Please select one an option from the list above or press 'q' to quit\n",
      "--> 1\n"
     ]
    },
    {
     "data": {
      "text/plain": [
       "{'1': 'one'}"
      ]
     },
     "execution_count": 18,
     "metadata": {},
     "output_type": "execute_result"
    }
   ],
   "source": [
    "single_select_from_dict({'1':'one','2':'two','3':'three'})"
   ]
  },
  {
   "cell_type": "markdown",
   "metadata": {},
   "source": [
    "### Testing single select function (dictionaries)\n"
   ]
  },
  {
   "cell_type": "code",
   "execution_count": 15,
   "metadata": {
    "scrolled": true
   },
   "outputs": [
    {
     "name": "stdout",
     "output_type": "stream",
     "text": [
      "Option [1]: 1 one\n",
      "Option [2]: 2 two\n",
      "Option [3]: 3 three\n",
      "\n",
      "Please select one an option from the list above or press 'q' to quit\n",
      "--> 1,2\n"
     ]
    },
    {
     "data": {
      "text/plain": [
       "{'1': 'one', '2': 'two'}"
      ]
     },
     "execution_count": 15,
     "metadata": {},
     "output_type": "execute_result"
    }
   ],
   "source": [
    "multi_select_from_dict({'1':'one','2':'two','3':'three'})"
   ]
  },
  {
   "cell_type": "markdown",
   "metadata": {},
   "source": [
    "### Testing an out-of-range input as well as a user initiated exit"
   ]
  },
  {
   "cell_type": "code",
   "execution_count": 22,
   "metadata": {
    "scrolled": true
   },
   "outputs": [
    {
     "name": "stdout",
     "output_type": "stream",
     "text": [
      "Option [1]: one\n",
      "Option [2]: two\n",
      "Option [3]: three\n",
      "\n",
      "Please select one an option from the list above or press 'q' to quit\n",
      "--> 4\n",
      "\n",
      "You have entered an invalid option, please try again or press 'q' to quit\n",
      "\n",
      "Option [1]: one\n",
      "Option [2]: two\n",
      "Option [3]: three\n",
      "\n",
      "Please select one an option from the list above or press 'q' to quit\n",
      "--> q\n",
      "\n",
      "You have entered an invalid option, please try again or press 'q' to quit\n",
      "\n",
      "Exiting...\n",
      "\n"
     ]
    }
   ],
   "source": [
    "single_select_from_list(['one','two','three'])"
   ]
  },
  {
   "cell_type": "code",
   "execution_count": null,
   "metadata": {
    "collapsed": true
   },
   "outputs": [],
   "source": []
  }
 ],
 "metadata": {
  "kernelspec": {
   "display_name": "Python 3",
   "language": "python",
   "name": "python3"
  },
  "language_info": {
   "codemirror_mode": {
    "name": "ipython",
    "version": 3
   },
   "file_extension": ".py",
   "mimetype": "text/x-python",
   "name": "python",
   "nbconvert_exporter": "python",
   "pygments_lexer": "ipython3",
   "version": "3.6.3"
  }
 },
 "nbformat": 4,
 "nbformat_minor": 2
}
